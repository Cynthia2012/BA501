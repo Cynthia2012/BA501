{
 "cells": [
  {
   "cell_type": "markdown",
   "metadata": {},
   "source": [
    "## HW 4 - Ying Yu"
   ]
  },
  {
   "cell_type": "markdown",
   "metadata": {},
   "source": [
    "### Q1  remove duplicate values in a dataset in Python"
   ]
  },
  {
   "cell_type": "code",
   "execution_count": 2,
   "metadata": {
    "collapsed": true
   },
   "outputs": [],
   "source": [
    "import numpy as np"
   ]
  },
  {
   "cell_type": "code",
   "execution_count": 3,
   "metadata": {
    "collapsed": true
   },
   "outputs": [],
   "source": [
    "import pandas as pd"
   ]
  },
  {
   "cell_type": "code",
   "execution_count": 4,
   "metadata": {
    "collapsed": true
   },
   "outputs": [],
   "source": [
    "import scipy"
   ]
  },
  {
   "cell_type": "code",
   "execution_count": null,
   "metadata": {
    "collapsed": true
   },
   "outputs": [],
   "source": []
  },
  {
   "cell_type": "code",
   "execution_count": 5,
   "metadata": {
    "collapsed": true
   },
   "outputs": [],
   "source": [
    "df = pd.read_csv('C:/Users/yuc/Desktop/Practice/BA501_python_data.csv')"
   ]
  },
  {
   "cell_type": "code",
   "execution_count": 6,
   "metadata": {},
   "outputs": [
    {
     "data": {
      "text/html": [
       "<div>\n",
       "<style>\n",
       "    .dataframe thead tr:only-child th {\n",
       "        text-align: right;\n",
       "    }\n",
       "\n",
       "    .dataframe thead th {\n",
       "        text-align: left;\n",
       "    }\n",
       "\n",
       "    .dataframe tbody tr th {\n",
       "        vertical-align: top;\n",
       "    }\n",
       "</style>\n",
       "<table border=\"1\" class=\"dataframe\">\n",
       "  <thead>\n",
       "    <tr style=\"text-align: right;\">\n",
       "      <th></th>\n",
       "      <th>country</th>\n",
       "      <th>date</th>\n",
       "      <th>experiment_id</th>\n",
       "      <th>order_id</th>\n",
       "      <th>spend_usd</th>\n",
       "      <th>user_id</th>\n",
       "      <th>vertical</th>\n",
       "    </tr>\n",
       "  </thead>\n",
       "  <tbody>\n",
       "    <tr>\n",
       "      <th>0</th>\n",
       "      <td>JP</td>\n",
       "      <td>20170402</td>\n",
       "      <td>12624548</td>\n",
       "      <td>5813140433216629693</td>\n",
       "      <td>16.138855</td>\n",
       "      <td>5006730028073359543</td>\n",
       "      <td>ANDROID_APPS</td>\n",
       "    </tr>\n",
       "    <tr>\n",
       "      <th>1</th>\n",
       "      <td>US</td>\n",
       "      <td>20170403</td>\n",
       "      <td>12624549</td>\n",
       "      <td>16333056276711034931</td>\n",
       "      <td>9.990000</td>\n",
       "      <td>5938685669571545259</td>\n",
       "      <td>ANDROID_APPS</td>\n",
       "    </tr>\n",
       "    <tr>\n",
       "      <th>2</th>\n",
       "      <td>JP</td>\n",
       "      <td>20170404</td>\n",
       "      <td>12624548</td>\n",
       "      <td>11227119161741298366</td>\n",
       "      <td>19.887087</td>\n",
       "      <td>17623708458399141713</td>\n",
       "      <td>ANDROID_APPS</td>\n",
       "    </tr>\n",
       "    <tr>\n",
       "      <th>3</th>\n",
       "      <td>US</td>\n",
       "      <td>20170403</td>\n",
       "      <td>12624548</td>\n",
       "      <td>11927299833124210932</td>\n",
       "      <td>19.990000</td>\n",
       "      <td>18042812344456618148</td>\n",
       "      <td>ANDROID_APPS</td>\n",
       "    </tr>\n",
       "    <tr>\n",
       "      <th>4</th>\n",
       "      <td>JP</td>\n",
       "      <td>20170403</td>\n",
       "      <td>12624549</td>\n",
       "      <td>11644727017708872749</td>\n",
       "      <td>88.220093</td>\n",
       "      <td>4325104700699531031</td>\n",
       "      <td>ANDROID_APPS</td>\n",
       "    </tr>\n",
       "  </tbody>\n",
       "</table>\n",
       "</div>"
      ],
      "text/plain": [
       "  country      date  experiment_id              order_id  spend_usd  \\\n",
       "0      JP  20170402       12624548   5813140433216629693  16.138855   \n",
       "1      US  20170403       12624549  16333056276711034931   9.990000   \n",
       "2      JP  20170404       12624548  11227119161741298366  19.887087   \n",
       "3      US  20170403       12624548  11927299833124210932  19.990000   \n",
       "4      JP  20170403       12624549  11644727017708872749  88.220093   \n",
       "\n",
       "                user_id      vertical  \n",
       "0   5006730028073359543  ANDROID_APPS  \n",
       "1   5938685669571545259  ANDROID_APPS  \n",
       "2  17623708458399141713  ANDROID_APPS  \n",
       "3  18042812344456618148  ANDROID_APPS  \n",
       "4   4325104700699531031  ANDROID_APPS  "
      ]
     },
     "execution_count": 6,
     "metadata": {},
     "output_type": "execute_result"
    }
   ],
   "source": [
    "df.head(5)"
   ]
  },
  {
   "cell_type": "code",
   "execution_count": 12,
   "metadata": {},
   "outputs": [
    {
     "data": {
      "text/plain": [
       "array(['1', '2', '3'], dtype=object)"
      ]
     },
     "execution_count": 12,
     "metadata": {},
     "output_type": "execute_result"
    }
   ],
   "source": [
    "np.unique(df.customer_id)"
   ]
  },
  {
   "cell_type": "code",
   "execution_count": null,
   "metadata": {
    "collapsed": true
   },
   "outputs": [],
   "source": []
  },
  {
   "cell_type": "markdown",
   "metadata": {},
   "source": [
    "### Q2 You are given two tables - friend_request and request_accepted.Friend_request contains requester_id, time and sent_to_id and request_accepted table contains time, acceptor_id and requestor_id. How will you determine the overall acceptance rate of requests?\n",
    "### Write in both Python and SQL."
   ]
  },
  {
   "cell_type": "code",
   "execution_count": 35,
   "metadata": {
    "collapsed": true
   },
   "outputs": [],
   "source": [
    "# create tables\n",
    "friend_request = pd.DataFrame(\n",
    "    {\n",
    "        'requester_id': [\"001\",\"002\",\"003\",\"004\",\"005\"],\n",
    "        'time': ['2/1/2017','2/2/2017','2/3/2017','2/4/2017','2/5/2017'],\n",
    "        'sent_to_id': ['011','012','012','104','113']        \n",
    "    },\n",
    "    columns=['requester_id','time','sent_to_id'])"
   ]
  },
  {
   "cell_type": "code",
   "execution_count": 36,
   "metadata": {
    "collapsed": true
   },
   "outputs": [],
   "source": [
    "request_accepted = pd.DataFrame(\n",
    "    {\n",
    "        'time': ['2/2/2017','2/4/2017','2/5/2017'],\n",
    "        'acceptor_id': ['011','012','113'], \n",
    "        'requester_id':['001','003','005'] \n",
    "        \n",
    "    },\n",
    "    columns=['time','acceptor_id','requester_id'])"
   ]
  },
  {
   "cell_type": "code",
   "execution_count": 37,
   "metadata": {},
   "outputs": [
    {
     "data": {
      "text/html": [
       "<div>\n",
       "<style>\n",
       "    .dataframe thead tr:only-child th {\n",
       "        text-align: right;\n",
       "    }\n",
       "\n",
       "    .dataframe thead th {\n",
       "        text-align: left;\n",
       "    }\n",
       "\n",
       "    .dataframe tbody tr th {\n",
       "        vertical-align: top;\n",
       "    }\n",
       "</style>\n",
       "<table border=\"1\" class=\"dataframe\">\n",
       "  <thead>\n",
       "    <tr style=\"text-align: right;\">\n",
       "      <th></th>\n",
       "      <th>requester_id</th>\n",
       "      <th>time</th>\n",
       "      <th>sent_to_id</th>\n",
       "    </tr>\n",
       "  </thead>\n",
       "  <tbody>\n",
       "    <tr>\n",
       "      <th>0</th>\n",
       "      <td>001</td>\n",
       "      <td>2/1/2017</td>\n",
       "      <td>011</td>\n",
       "    </tr>\n",
       "    <tr>\n",
       "      <th>1</th>\n",
       "      <td>002</td>\n",
       "      <td>2/2/2017</td>\n",
       "      <td>012</td>\n",
       "    </tr>\n",
       "    <tr>\n",
       "      <th>2</th>\n",
       "      <td>003</td>\n",
       "      <td>2/3/2017</td>\n",
       "      <td>012</td>\n",
       "    </tr>\n",
       "    <tr>\n",
       "      <th>3</th>\n",
       "      <td>004</td>\n",
       "      <td>2/4/2017</td>\n",
       "      <td>104</td>\n",
       "    </tr>\n",
       "    <tr>\n",
       "      <th>4</th>\n",
       "      <td>005</td>\n",
       "      <td>2/5/2017</td>\n",
       "      <td>113</td>\n",
       "    </tr>\n",
       "  </tbody>\n",
       "</table>\n",
       "</div>"
      ],
      "text/plain": [
       "  requester_id      time sent_to_id\n",
       "0          001  2/1/2017        011\n",
       "1          002  2/2/2017        012\n",
       "2          003  2/3/2017        012\n",
       "3          004  2/4/2017        104\n",
       "4          005  2/5/2017        113"
      ]
     },
     "execution_count": 37,
     "metadata": {},
     "output_type": "execute_result"
    }
   ],
   "source": [
    "friend_request.head(5)"
   ]
  },
  {
   "cell_type": "code",
   "execution_count": 38,
   "metadata": {},
   "outputs": [
    {
     "data": {
      "text/html": [
       "<div>\n",
       "<style>\n",
       "    .dataframe thead tr:only-child th {\n",
       "        text-align: right;\n",
       "    }\n",
       "\n",
       "    .dataframe thead th {\n",
       "        text-align: left;\n",
       "    }\n",
       "\n",
       "    .dataframe tbody tr th {\n",
       "        vertical-align: top;\n",
       "    }\n",
       "</style>\n",
       "<table border=\"1\" class=\"dataframe\">\n",
       "  <thead>\n",
       "    <tr style=\"text-align: right;\">\n",
       "      <th></th>\n",
       "      <th>time</th>\n",
       "      <th>acceptor_id</th>\n",
       "      <th>requester_id</th>\n",
       "    </tr>\n",
       "  </thead>\n",
       "  <tbody>\n",
       "    <tr>\n",
       "      <th>0</th>\n",
       "      <td>2/2/2017</td>\n",
       "      <td>011</td>\n",
       "      <td>001</td>\n",
       "    </tr>\n",
       "    <tr>\n",
       "      <th>1</th>\n",
       "      <td>2/4/2017</td>\n",
       "      <td>012</td>\n",
       "      <td>003</td>\n",
       "    </tr>\n",
       "    <tr>\n",
       "      <th>2</th>\n",
       "      <td>2/5/2017</td>\n",
       "      <td>113</td>\n",
       "      <td>005</td>\n",
       "    </tr>\n",
       "  </tbody>\n",
       "</table>\n",
       "</div>"
      ],
      "text/plain": [
       "       time acceptor_id requester_id\n",
       "0  2/2/2017         011          001\n",
       "1  2/4/2017         012          003\n",
       "2  2/5/2017         113          005"
      ]
     },
     "execution_count": 38,
     "metadata": {},
     "output_type": "execute_result"
    }
   ],
   "source": [
    "request_accepted.head(5)"
   ]
  },
  {
   "cell_type": "code",
   "execution_count": null,
   "metadata": {
    "collapsed": true
   },
   "outputs": [],
   "source": [
    "# Assume there is no duplicate request."
   ]
  },
  {
   "cell_type": "code",
   "execution_count": 39,
   "metadata": {
    "collapsed": true
   },
   "outputs": [],
   "source": [
    "acceptance = pd.merge(friend_request, request_accepted, on = 'requester_id')"
   ]
  },
  {
   "cell_type": "code",
   "execution_count": 40,
   "metadata": {},
   "outputs": [
    {
     "data": {
      "text/html": [
       "<div>\n",
       "<style>\n",
       "    .dataframe thead tr:only-child th {\n",
       "        text-align: right;\n",
       "    }\n",
       "\n",
       "    .dataframe thead th {\n",
       "        text-align: left;\n",
       "    }\n",
       "\n",
       "    .dataframe tbody tr th {\n",
       "        vertical-align: top;\n",
       "    }\n",
       "</style>\n",
       "<table border=\"1\" class=\"dataframe\">\n",
       "  <thead>\n",
       "    <tr style=\"text-align: right;\">\n",
       "      <th></th>\n",
       "      <th>requester_id</th>\n",
       "      <th>time_x</th>\n",
       "      <th>sent_to_id</th>\n",
       "      <th>time_y</th>\n",
       "      <th>acceptor_id</th>\n",
       "    </tr>\n",
       "  </thead>\n",
       "  <tbody>\n",
       "    <tr>\n",
       "      <th>0</th>\n",
       "      <td>001</td>\n",
       "      <td>2/1/2017</td>\n",
       "      <td>011</td>\n",
       "      <td>2/2/2017</td>\n",
       "      <td>011</td>\n",
       "    </tr>\n",
       "    <tr>\n",
       "      <th>1</th>\n",
       "      <td>003</td>\n",
       "      <td>2/3/2017</td>\n",
       "      <td>012</td>\n",
       "      <td>2/4/2017</td>\n",
       "      <td>012</td>\n",
       "    </tr>\n",
       "    <tr>\n",
       "      <th>2</th>\n",
       "      <td>005</td>\n",
       "      <td>2/5/2017</td>\n",
       "      <td>113</td>\n",
       "      <td>2/5/2017</td>\n",
       "      <td>113</td>\n",
       "    </tr>\n",
       "  </tbody>\n",
       "</table>\n",
       "</div>"
      ],
      "text/plain": [
       "  requester_id    time_x sent_to_id    time_y acceptor_id\n",
       "0          001  2/1/2017        011  2/2/2017         011\n",
       "1          003  2/3/2017        012  2/4/2017         012\n",
       "2          005  2/5/2017        113  2/5/2017         113"
      ]
     },
     "execution_count": 40,
     "metadata": {},
     "output_type": "execute_result"
    }
   ],
   "source": [
    "acceptance.head(5)"
   ]
  },
  {
   "cell_type": "code",
   "execution_count": 43,
   "metadata": {
    "collapsed": true
   },
   "outputs": [],
   "source": [
    "acceptance_rate = len(acceptance['requester_id']) / len(friend_request['requester_id'])"
   ]
  },
  {
   "cell_type": "code",
   "execution_count": 45,
   "metadata": {},
   "outputs": [
    {
     "name": "stdout",
     "output_type": "stream",
     "text": [
      "0.6\n"
     ]
    }
   ],
   "source": [
    "print(acceptance_rate)"
   ]
  },
  {
   "cell_type": "code",
   "execution_count": null,
   "metadata": {
    "collapsed": true
   },
   "outputs": [],
   "source": []
  },
  {
   "cell_type": "markdown",
   "metadata": {},
   "source": [
    "### Q3 “Issuer” of a credit card are companies like Visa,\n",
    "Mastercard, American Express. Now we know the\n",
    "following rules:\n",
    "CC number starts with: '4'\n",
    "CC len : 16\n",
    "\n",
    "Issuer: VISA\n",
    "CC number starts with: '34', '37'\n",
    "CC len : 15\n",
    "\n",
    "Issuer : AMEX\n",
    "CC number starts with: '36'\n",
    "CC len : 14\n",
    "\n",
    "Issuer : Diners Club\n",
    "Credit card number starts with\n",
    "'4026', '417500', '4405', '4508', '4844',\n",
    "'4913', '4917'\n",
    "CC len : 16\n",
    "Issuer : VISAELECTRON"
   ]
  },
  {
   "cell_type": "markdown",
   "metadata": {},
   "source": [
    "### Now write Python scripts to identify the issuer of the\n",
    "following credit card numbers:\n",
    "'4175004175004172'  '4917491749174917' '346416800707698' '376416800707698' '37641680070769832112' '36641680070769'\n",
    "'54545641680070769’"
   ]
  },
  {
   "cell_type": "code",
   "execution_count": 184,
   "metadata": {},
   "outputs": [],
   "source": [
    "def Judgecard (cc):\n",
    "    if ((cc[0:2] == '37') and (len(cc) == 15)):\n",
    "          print (\"AMEX\")\n",
    "    if ((cc[0:2] == '34') and (len(cc) == 15)):\n",
    "          print (\"AMEX\")\n",
    "    if (cc[0:2] == '36' and (len(cc) == 14)):\n",
    "          print (\"Dinner Club\")\n",
    "    if (cc[0] == '4' and len(cc) == 16):\n",
    "        if ((cc[0:4] == '4026' or cc[0:4] == '4405' or cc[0:4] == '4508' or cc[0:4] == '4844' or cc[0:4] == '4913' or cc[0:4] == '4917' or cc[0:6] == '417500')):\n",
    "              print (\"VISAELECTRON\")\n",
    "        else:\n",
    "              print (\"Visa\")  "
   ]
  },
  {
   "cell_type": "code",
   "execution_count": 185,
   "metadata": {},
   "outputs": [
    {
     "name": "stdout",
     "output_type": "stream",
     "text": [
      "VISAELECTRON\n"
     ]
    }
   ],
   "source": [
    "Judgecard('4175004175004172')"
   ]
  },
  {
   "cell_type": "code",
   "execution_count": 186,
   "metadata": {},
   "outputs": [
    {
     "name": "stdout",
     "output_type": "stream",
     "text": [
      "VISAELECTRON\n"
     ]
    }
   ],
   "source": [
    "Judgecard('4917491749174917')"
   ]
  },
  {
   "cell_type": "code",
   "execution_count": 187,
   "metadata": {},
   "outputs": [
    {
     "name": "stdout",
     "output_type": "stream",
     "text": [
      "VISAELECTRON\n"
     ]
    }
   ],
   "source": [
    "Judgecard('4917491749174917')"
   ]
  },
  {
   "cell_type": "code",
   "execution_count": 188,
   "metadata": {},
   "outputs": [
    {
     "name": "stdout",
     "output_type": "stream",
     "text": [
      "AMEX\n"
     ]
    }
   ],
   "source": [
    "Judgecard('346416800707698')"
   ]
  },
  {
   "cell_type": "code",
   "execution_count": 189,
   "metadata": {},
   "outputs": [
    {
     "name": "stdout",
     "output_type": "stream",
     "text": [
      "AMEX\n"
     ]
    }
   ],
   "source": [
    "Judgecard('376416800707698')"
   ]
  },
  {
   "cell_type": "code",
   "execution_count": 190,
   "metadata": {
    "collapsed": true
   },
   "outputs": [],
   "source": [
    "Judgecard('37641680070769832112')"
   ]
  },
  {
   "cell_type": "code",
   "execution_count": 191,
   "metadata": {},
   "outputs": [
    {
     "name": "stdout",
     "output_type": "stream",
     "text": [
      "Dinner Club\n"
     ]
    }
   ],
   "source": [
    "Judgecard('36641680070769')"
   ]
  },
  {
   "cell_type": "code",
   "execution_count": 192,
   "metadata": {
    "collapsed": true
   },
   "outputs": [],
   "source": [
    "Judgecard('54545641680070769')"
   ]
  },
  {
   "cell_type": "markdown",
   "metadata": {},
   "source": [
    "### Q4: PrintCumulativeTimeSeries()\n",
    "Input: Three parameters: experiment_id, country, and vertical\n",
    "Output:\n",
    "- Time series chart showing the uplift\n",
    "- Overall % uplift on revenue, experiment vs.control: (red - blue) / blue %    "
   ]
  },
  {
   "cell_type": "code",
   "execution_count": 68,
   "metadata": {
    "collapsed": true
   },
   "outputs": [],
   "source": [
    "import datetime"
   ]
  },
  {
   "cell_type": "code",
   "execution_count": 69,
   "metadata": {
    "collapsed": true
   },
   "outputs": [],
   "source": [
    "import matplotlib.pyplot as plt"
   ]
  },
  {
   "cell_type": "code",
   "execution_count": 70,
   "metadata": {
    "collapsed": true
   },
   "outputs": [],
   "source": [
    "%matplotlib inline"
   ]
  },
  {
   "cell_type": "code",
   "execution_count": 129,
   "metadata": {
    "collapsed": true
   },
   "outputs": [],
   "source": [
    "my_data = pd.read_csv('C:/Users/yuc/Desktop/Practice/BA501_python_data.csv')"
   ]
  },
  {
   "cell_type": "code",
   "execution_count": 81,
   "metadata": {},
   "outputs": [
    {
     "data": {
      "text/html": [
       "<div>\n",
       "<style>\n",
       "    .dataframe thead tr:only-child th {\n",
       "        text-align: right;\n",
       "    }\n",
       "\n",
       "    .dataframe thead th {\n",
       "        text-align: left;\n",
       "    }\n",
       "\n",
       "    .dataframe tbody tr th {\n",
       "        vertical-align: top;\n",
       "    }\n",
       "</style>\n",
       "<table border=\"1\" class=\"dataframe\">\n",
       "  <thead>\n",
       "    <tr style=\"text-align: right;\">\n",
       "      <th></th>\n",
       "      <th>country</th>\n",
       "      <th>date</th>\n",
       "      <th>experiment_id</th>\n",
       "      <th>order_id</th>\n",
       "      <th>spend_usd</th>\n",
       "      <th>user_id</th>\n",
       "      <th>vertical</th>\n",
       "    </tr>\n",
       "  </thead>\n",
       "  <tbody>\n",
       "    <tr>\n",
       "      <th>0</th>\n",
       "      <td>JP</td>\n",
       "      <td>20170402</td>\n",
       "      <td>12624548</td>\n",
       "      <td>5813140433216629693</td>\n",
       "      <td>16.138855</td>\n",
       "      <td>5006730028073359543</td>\n",
       "      <td>ANDROID_APPS</td>\n",
       "    </tr>\n",
       "    <tr>\n",
       "      <th>1</th>\n",
       "      <td>US</td>\n",
       "      <td>20170403</td>\n",
       "      <td>12624549</td>\n",
       "      <td>16333056276711034931</td>\n",
       "      <td>9.990000</td>\n",
       "      <td>5938685669571545259</td>\n",
       "      <td>ANDROID_APPS</td>\n",
       "    </tr>\n",
       "    <tr>\n",
       "      <th>2</th>\n",
       "      <td>JP</td>\n",
       "      <td>20170404</td>\n",
       "      <td>12624548</td>\n",
       "      <td>11227119161741298366</td>\n",
       "      <td>19.887087</td>\n",
       "      <td>17623708458399141713</td>\n",
       "      <td>ANDROID_APPS</td>\n",
       "    </tr>\n",
       "    <tr>\n",
       "      <th>3</th>\n",
       "      <td>US</td>\n",
       "      <td>20170403</td>\n",
       "      <td>12624548</td>\n",
       "      <td>11927299833124210932</td>\n",
       "      <td>19.990000</td>\n",
       "      <td>18042812344456618148</td>\n",
       "      <td>ANDROID_APPS</td>\n",
       "    </tr>\n",
       "    <tr>\n",
       "      <th>4</th>\n",
       "      <td>JP</td>\n",
       "      <td>20170403</td>\n",
       "      <td>12624549</td>\n",
       "      <td>11644727017708872749</td>\n",
       "      <td>88.220093</td>\n",
       "      <td>4325104700699531031</td>\n",
       "      <td>ANDROID_APPS</td>\n",
       "    </tr>\n",
       "  </tbody>\n",
       "</table>\n",
       "</div>"
      ],
      "text/plain": [
       "  country      date  experiment_id              order_id  spend_usd  \\\n",
       "0      JP  20170402       12624548   5813140433216629693  16.138855   \n",
       "1      US  20170403       12624549  16333056276711034931   9.990000   \n",
       "2      JP  20170404       12624548  11227119161741298366  19.887087   \n",
       "3      US  20170403       12624548  11927299833124210932  19.990000   \n",
       "4      JP  20170403       12624549  11644727017708872749  88.220093   \n",
       "\n",
       "                user_id      vertical  \n",
       "0   5006730028073359543  ANDROID_APPS  \n",
       "1   5938685669571545259  ANDROID_APPS  \n",
       "2  17623708458399141713  ANDROID_APPS  \n",
       "3  18042812344456618148  ANDROID_APPS  \n",
       "4   4325104700699531031  ANDROID_APPS  "
      ]
     },
     "execution_count": 81,
     "metadata": {},
     "output_type": "execute_result"
    }
   ],
   "source": [
    "my_data.head()"
   ]
  },
  {
   "cell_type": "code",
   "execution_count": 128,
   "metadata": {
    "collapsed": true
   },
   "outputs": [],
   "source": [
    "# total culumative values\n",
    "# def GetSeries(my_data, my_id):\n",
    "#    table = my_data[[\"date\", \"spend_usd\"]][my_data.experiment_id == my_id]\n",
    "#    series = table.groupby('date')[\"spend_usd\"].sum()\n",
    "#    for i in range(0,len(blue)):\n",
    "#        if i == 0:\n",
    "#            series.iloc[i] = series.iloc[i]\n",
    "#        else:\n",
    "#            series.iloc[i] = series.iloc[i-1] + blue.iloc[i]\n",
    "#    print (series)\n",
    "#    return(series)    "
   ]
  },
  {
   "cell_type": "code",
   "execution_count": 130,
   "metadata": {
    "collapsed": true
   },
   "outputs": [],
   "source": [
    "# group by\n",
    "def GetSeries(my_data, my_id, my_country, my_verical):\n",
    "    table = my_data[[\"date\", \"spend_usd\"]][(my_data.experiment_id == my_id) & (my_data.country == my_country) & (my_data.vertical == my_verical)]\n",
    "    series = table.groupby('date')[\"spend_usd\"].sum()\n",
    "    for i in range(0,len(blue)):\n",
    "        if i == 0:\n",
    "            series.iloc[i] = series.iloc[i]\n",
    "        else:\n",
    "            series.iloc[i] = series.iloc[i-1] + blue.iloc[i]\n",
    "    print (series)\n",
    "    return(series)    "
   ]
  },
  {
   "cell_type": "code",
   "execution_count": 131,
   "metadata": {},
   "outputs": [
    {
     "name": "stdout",
     "output_type": "stream",
     "text": [
      "date\n",
      "20170401    1.774648e+04\n",
      "20170402    3.232300e+05\n",
      "20170403    1.040737e+06\n",
      "20170404    2.406458e+06\n",
      "20170405    4.707969e+06\n",
      "20170406    8.280259e+06\n",
      "20170407    1.191463e+07\n",
      "Name: spend_usd, dtype: float64\n",
      "date\n",
      "20170401    1.882695e+04\n",
      "20170402    3.420570e+05\n",
      "20170403    1.382794e+06\n",
      "20170404    3.789253e+06\n",
      "20170405    8.497221e+06\n",
      "20170406    1.677748e+07\n",
      "20170407    2.869211e+07\n",
      "Name: spend_usd, dtype: float64\n"
     ]
    }
   ],
   "source": [
    "# check us customers using ANDROID_APPS\n",
    "blue = GetSeries(my_data, 12624548, \"US\", \"ANDROID_APPS\")\n",
    "red = GetSeries(my_data, 12624549, \"US\", \"ANDROID_APPS\")\n",
    "index_series = blue.index"
   ]
  },
  {
   "cell_type": "code",
   "execution_count": 135,
   "metadata": {
    "collapsed": true
   },
   "outputs": [],
   "source": [
    "def PlotSeries(index_series, experiment_series, control_series):\n",
    "    df = pd.DataFrame (\n",
    "    {\n",
    "        \"experiment\": experiment_series.tolist(),\n",
    "        \"control\": control_series.tolist()\n",
    "    },\n",
    "    index = index_series.tolist(),\n",
    "    columns = [\"experiment\", \"control\"]\n",
    "    )\n",
    "    fig, ax = plt.subplots()\n",
    "    ax.plot(df.experiment, color = \"red\", label = \"red\")\n",
    "    ax.plot(df.control, color = \"blue\", label = \"blue\")\n",
    "    \n",
    "    ax.set_title(\"Red vs. Blue for US cutomers using ANDROID\")\n",
    "    ax.set_ylabel(\"Total Spend\")\n",
    "    ax.grid(True, which = \"both\")\n",
    "    \n",
    "    ax.legend().get_texts()[0].set_text(\"Red\")\n",
    "    ax.legend().get_texts()[1].set_text(\"Blue\")\n",
    "    \n",
    "    plt.gcf().autofmt_xdate()"
   ]
  },
  {
   "cell_type": "code",
   "execution_count": 136,
   "metadata": {},
   "outputs": [
    {
     "data": {
      "image/png": "[encoded data removed]",
      "text/plain": [
       "<matplotlib.figure.Figure at 0x22dbfaf9ba8>"
      ]
     },
     "metadata": {},
     "output_type": "display_data"
    }
   ],
   "source": [
    "PlotSeries(index_series, red, blue)"
   ]
  },
  {
   "cell_type": "code",
   "execution_count": 144,
   "metadata": {},
   "outputs": [
    {
     "name": "stdout",
     "output_type": "stream",
     "text": [
      "1.40814134446\n"
     ]
    }
   ],
   "source": [
    "# calculate Overall % uplift on revenue, experiment vs.control: (red - blue) / blue % \n",
    "overalluplift = (red.iloc[len(red)-1] - blue.iloc[len(blue)-1]) / blue.iloc[len(blue)-1]\n",
    "print (overalluplift)"
   ]
  }
 ],
 "metadata": {
  "kernelspec": {
   "display_name": "Python 3",
   "language": "python",
   "name": "python3"
  },
  "language_info": {
   "codemirror_mode": {
    "name": "ipython",
    "version": 3
   },
   "file_extension": ".py",
   "mimetype": "text/x-python",
   "name": "python",
   "nbconvert_exporter": "python",
   "pygments_lexer": "ipython3",
   "version": "3.6.2"
  }
 },
 "nbformat": 4,
 "nbformat_minor": 2
}
